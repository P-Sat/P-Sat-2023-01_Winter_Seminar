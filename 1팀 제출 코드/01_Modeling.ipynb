{
 "cells": [
  {
   "cell_type": "markdown",
   "id": "2ca96c8e",
   "metadata": {},
   "source": [
    "# Modeling"
   ]
  },
  {
   "cell_type": "markdown",
   "id": "65830dcb",
   "metadata": {},
   "source": [
    "## 1. 데이터 불러오기 및 라이브러리 설치"
   ]
  },
  {
   "cell_type": "code",
   "execution_count": 9,
   "id": "c2c60adb",
   "metadata": {},
   "outputs": [],
   "source": [
    "from sklearn.model_selection import StratifiedKFold\n",
    "import lightgbm as lgb\n",
    "from sklearn.metrics import f1_score\n",
    "import pandas as pd\n",
    "import numpy as np\n",
    "import os \n",
    "import time\n",
    "import joblib\n",
    "import random\n",
    "\n",
    "DEFAULT_RANDOM_SEED = 2021\n",
    "\n",
    "def seedBasic(seed=DEFAULT_RANDOM_SEED):\n",
    "    random.seed(seed)\n",
    "    os.environ['PYTHONHASHSEED'] = str(seed)\n",
    "    np.random.seed(seed)"
   ]
  },
  {
   "cell_type": "code",
   "execution_count": 10,
   "id": "b39f6f2b",
   "metadata": {},
   "outputs": [],
   "source": [
    "train=pd.read_csv(\"train2.csv\")"
   ]
  },
  {
   "cell_type": "code",
   "execution_count": 11,
   "id": "fdaa0d57",
   "metadata": {},
   "outputs": [],
   "source": [
    "X = train.drop([\"target\"], axis = 1)\n",
    "y = train[\"target\"]"
   ]
  },
  {
   "cell_type": "markdown",
   "id": "0649e22e",
   "metadata": {},
   "source": [
    "## 2. 모델링 및 적합  \n",
    "  \n",
    "1. 최종 모델 : LGBM  \n",
    "2. 파라미터 튜닝: optuna를 통해 최적 hyperparameter 탐색 시도  \n",
    "   불균형 데이터에 적합한 Stratified_CV 를 5 fold로 진행  \n",
    "   성능평가지표인 f1 score(macro)를 최대화 하게 탐색"
   ]
  },
  {
   "cell_type": "code",
   "execution_count": 12,
   "id": "f3863b77",
   "metadata": {},
   "outputs": [],
   "source": [
    "params= {\"boosting_type\" : \"goss\",\n",
    "         \"objective\" :\"binary\",\n",
    "         \"metric\" :\"binary_logloss\",\n",
    "         'num_leaves': 11, \n",
    "         'learning_rate': 0.024351317319143, \n",
    "    'n_estimators': 3881, \n",
    "                                                                                             'scale_pos_weight': 3.1675263931046893,\n",
    "                                                                                             'colsample_bytree': 0.6124841576321902}"
   ]
  },
  {
   "cell_type": "code",
   "execution_count": 13,
   "id": "07f17fa1",
   "metadata": {},
   "outputs": [],
   "source": [
    "seedBasic(42)\n",
    "\n",
    "Lgbm = lgb.LGBMClassifier(**params)\n",
    "model = Lgbm.fit(X,y)"
   ]
  },
  {
   "cell_type": "code",
   "execution_count": 14,
   "id": "b9a61634",
   "metadata": {},
   "outputs": [
    {
     "data": {
      "text/plain": [
       "['LGBM.pkl']"
      ]
     },
     "execution_count": 14,
     "metadata": {},
     "output_type": "execute_result"
    }
   ],
   "source": [
    "joblib.dump(model, 'LGBM.pkl')"
   ]
  }
 ],
 "metadata": {
  "kernelspec": {
   "display_name": "Python 3 (ipykernel)",
   "language": "python",
   "name": "python3"
  },
  "language_info": {
   "codemirror_mode": {
    "name": "ipython",
    "version": 3
   },
   "file_extension": ".py",
   "mimetype": "text/x-python",
   "name": "python",
   "nbconvert_exporter": "python",
   "pygments_lexer": "ipython3",
   "version": "3.11.1"
  }
 },
 "nbformat": 4,
 "nbformat_minor": 5
}
